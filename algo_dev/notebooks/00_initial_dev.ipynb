{
 "cells": [
  {
   "cell_type": "code",
   "execution_count": 1,
   "id": "ordered-armenia",
   "metadata": {},
   "outputs": [],
   "source": [
    "#The goal of this notebook is the development of a training algorithm capable of assessing a user's current training,\n",
    "#and developing a plan for some time in the future that will impact their training positively. "
   ]
  },
  {
   "cell_type": "code",
   "execution_count": 2,
   "id": "processed-accreditation",
   "metadata": {},
   "outputs": [],
   "source": [
    "import numpy as np\n",
    "import pandas as pd\n",
    "from flask_pymongo import PyMongo\n",
    "from bson import ObjectId\n",
    "import matplotlib.pyplot as plt, mpld3\n",
    "import seaborn as sns"
   ]
  },
  {
   "cell_type": "code",
   "execution_count": 4,
   "id": "recreational-influence",
   "metadata": {},
   "outputs": [],
   "source": [
    "from datetime import date"
   ]
  },
  {
   "cell_type": "code",
   "execution_count": 3,
   "id": "novel-supplier",
   "metadata": {},
   "outputs": [],
   "source": [
    "#basic idea: start with a structure of a workout plan. Adjust the workout plan as the athlete completes workouts. \n",
    "#structure of the workout plan should be easily stored in MongoDB/JSON format."
   ]
  },
  {
   "cell_type": "code",
   "execution_count": 9,
   "id": "isolated-growing",
   "metadata": {},
   "outputs": [],
   "source": [
    "first_date = date(2003, 3,1)"
   ]
  },
  {
   "cell_type": "code",
   "execution_count": 10,
   "id": "indian-knowing",
   "metadata": {},
   "outputs": [],
   "source": [
    "start_date = first_date.isoformat()"
   ]
  },
  {
   "cell_type": "code",
   "execution_count": 11,
   "id": "closed-check",
   "metadata": {},
   "outputs": [],
   "source": [
    "last_date = date(2003, 3, 8)\n",
    "end_date = last_date.isoformat()"
   ]
  },
  {
   "cell_type": "code",
   "execution_count": 24,
   "id": "dependent-breed",
   "metadata": {},
   "outputs": [],
   "source": [
    "#Testing out making a json file:\n",
    "test_plan = {\n",
    "    'id':1,\n",
    "    'username':'Keith',\n",
    "    'start_date':start_date,\n",
    "    'end_date':end_date,\n",
    "    'workouts':[\n",
    "        {\n",
    "            'workout_number':0,\n",
    "            'workout_sport':'Running',\n",
    "            'workout_duration':45,\n",
    "            'workout_day':0,\n",
    "            'workout_format':[\n",
    "                {'block_1':[\n",
    "                    {\n",
    "                    'desc':'warmup',\n",
    "                    'profile':'ramp',\n",
    "                    'start_intensity':0.55,\n",
    "                    'finish_intensity':0.75,\n",
    "                    'duration':5\n",
    "                    }\n",
    "                ]},\n",
    "                {'block_2':[\n",
    "                    {\n",
    "                    'desc':'work',\n",
    "                    'profile':'continuous',\n",
    "                    'start_intensity':0.75,\n",
    "                    'finish_intensity':0.75,\n",
    "                    'duration':35\n",
    "                    }\n",
    "                ]},\n",
    "                {'block_3':[\n",
    "                    {\n",
    "                    'desc':'cooldown',\n",
    "                    'profile':'ramp',\n",
    "                    'start_intensity':0.75,\n",
    "                    'finish_intensity':0.55,\n",
    "                    'duration':5\n",
    "                    }\n",
    "                ]}\n",
    "            ]\n",
    "        }\n",
    "    ]\n",
    "}"
   ]
  },
  {
   "cell_type": "code",
   "execution_count": 25,
   "id": "shaped-result",
   "metadata": {},
   "outputs": [
    {
     "data": {
      "text/plain": [
       "[{'block_1': [{'desc': 'warmup',\n",
       "    'profile': 'ramp',\n",
       "    'start_intensity': 0.55,\n",
       "    'finish_intensity': 0.75,\n",
       "    'duration': 5}]},\n",
       " {'block_2': [{'desc': 'work',\n",
       "    'profile': 'continuous',\n",
       "    'start_intensity': 0.75,\n",
       "    'finish_intensity': 0.75,\n",
       "    'duration': 35}]},\n",
       " {'block_3': [{'desc': 'cooldown',\n",
       "    'profile': 'ramp',\n",
       "    'start_intensity': 0.75,\n",
       "    'finish_intensity': 0.55,\n",
       "    'duration': 5}]}]"
      ]
     },
     "execution_count": 25,
     "metadata": {},
     "output_type": "execute_result"
    }
   ],
   "source": [
    "test_plan['workouts'][0]['workout_format']"
   ]
  },
  {
   "cell_type": "code",
   "execution_count": 38,
   "id": "modern-germany",
   "metadata": {},
   "outputs": [],
   "source": [
    "class Athlete:\n",
    "    def __init__(self, username, firstname, birthday, thresh_hr, longest_run):\n",
    "        self.username = username\n",
    "        self.firstname = firstname\n",
    "        self.birthday = birthday\n",
    "        self.thresh_hr = thresh_hr,\n",
    "        self.longest_run = longest_run\n",
    "        \n",
    "    def printout_info(self):\n",
    "        print(\"Username: \" + self.username)\n",
    "        print(\"First Name: \" + self.firstname)\n",
    "        print(\"Birthday: \" + self.birthday)\n",
    "        print(\"Threshold Heart Rate: \" + str(self.thresh_hr[0]))\n",
    "        print(\"Longest Run: \" + str(self.longest_run))"
   ]
  },
  {
   "cell_type": "code",
   "execution_count": 39,
   "id": "knowing-essence",
   "metadata": {},
   "outputs": [],
   "source": [
    "keith_test = Athlete('kkruel55', 'Keith', '04/02/1987', 165, 26.2)"
   ]
  },
  {
   "cell_type": "code",
   "execution_count": 40,
   "id": "adverse-champagne",
   "metadata": {},
   "outputs": [
    {
     "name": "stdout",
     "output_type": "stream",
     "text": [
      "Username: kkruel55\n",
      "First Name: Keith\n",
      "Birthday: 04/02/1987\n",
      "Threshold Heart Rate: 165\n",
      "Longest Run: 26.2\n"
     ]
    }
   ],
   "source": [
    "keith_test.printout_info()"
   ]
  },
  {
   "cell_type": "code",
   "execution_count": 41,
   "id": "empirical-medicine",
   "metadata": {},
   "outputs": [],
   "source": [
    "#Basic idea is to define the functions that will return associated workout types. From these types we can build a variety of workouts for the user."
   ]
  },
  {
   "cell_type": "code",
   "execution_count": 42,
   "id": "dutch-introduction",
   "metadata": {},
   "outputs": [],
   "source": [
    "def ramp_profile():\n",
    "    pass"
   ]
  },
  {
   "cell_type": "code",
   "execution_count": 43,
   "id": "unknown-oklahoma",
   "metadata": {},
   "outputs": [],
   "source": [
    "def continuous_profile():\n",
    "    pass"
   ]
  },
  {
   "cell_type": "code",
   "execution_count": 44,
   "id": "extreme-grounds",
   "metadata": {},
   "outputs": [],
   "source": [
    "def interval_profile():\n",
    "    pass"
   ]
  },
  {
   "cell_type": "code",
   "execution_count": 45,
   "id": "miniature-deadline",
   "metadata": {},
   "outputs": [],
   "source": [
    "#This function will be called whenever the week's load has been determined, for as many workouts as the user has during the week.\n",
    "def create_workout():\n",
    "    pass"
   ]
  },
  {
   "cell_type": "code",
   "execution_count": null,
   "id": "dietary-albuquerque",
   "metadata": {},
   "outputs": [],
   "source": []
  }
 ],
 "metadata": {
  "kernelspec": {
   "display_name": "Python 3",
   "language": "python",
   "name": "python3"
  },
  "language_info": {
   "codemirror_mode": {
    "name": "ipython",
    "version": 3
   },
   "file_extension": ".py",
   "mimetype": "text/x-python",
   "name": "python",
   "nbconvert_exporter": "python",
   "pygments_lexer": "ipython3",
   "version": "3.8.3"
  }
 },
 "nbformat": 4,
 "nbformat_minor": 5
}
