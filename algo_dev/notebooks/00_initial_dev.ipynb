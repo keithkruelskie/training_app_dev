{
 "cells": [
  {
   "cell_type": "code",
   "execution_count": 1,
   "id": "artificial-soviet",
   "metadata": {},
   "outputs": [],
   "source": [
    "#The goal of this notebook is the development of a training algorithm capable of assessing a user's current training,\n",
    "#and developing a plan for some time in the future that will impact their training positively. "
   ]
  },
  {
   "cell_type": "code",
   "execution_count": 2,
   "id": "ancient-separation",
   "metadata": {},
   "outputs": [],
   "source": [
    "import numpy as np\n",
    "import pandas as pd\n",
    "from flask_pymongo import PyMongo\n",
    "from bson import ObjectId\n",
    "import matplotlib.pyplot as plt, mpld3\n",
    "import seaborn as sns"
   ]
  },
  {
   "cell_type": "code",
   "execution_count": 4,
   "id": "incident-bosnia",
   "metadata": {},
   "outputs": [],
   "source": [
    "from datetime import date"
   ]
  },
  {
   "cell_type": "code",
   "execution_count": 3,
   "id": "allied-findings",
   "metadata": {},
   "outputs": [],
   "source": [
    "#basic idea: start with a structure of a workout plan. Adjust the workout plan as the athlete completes workouts. \n",
    "#structure of the workout plan should be easily stored in MongoDB/JSON format."
   ]
  },
  {
   "cell_type": "code",
   "execution_count": 9,
   "id": "chemical-arthritis",
   "metadata": {},
   "outputs": [],
   "source": [
    "first_date = date(2003, 3,1)"
   ]
  },
  {
   "cell_type": "code",
   "execution_count": 10,
   "id": "tropical-pressing",
   "metadata": {},
   "outputs": [],
   "source": [
    "start_date = first_date.isoformat()"
   ]
  },
  {
   "cell_type": "code",
   "execution_count": 11,
   "id": "innovative-latter",
   "metadata": {},
   "outputs": [],
   "source": [
    "last_date = date(2003, 3, 8)\n",
    "end_date = last_date.isoformat()"
   ]
  },
  {
   "cell_type": "code",
   "execution_count": 15,
   "id": "balanced-removal",
   "metadata": {},
   "outputs": [],
   "source": [
    "#Testing out making a json file:\n",
    "test_plan = {\n",
    "    'id':1,\n",
    "    'username':'Keith',\n",
    "    'start_date':start_date,\n",
    "    'end_date':end_date,\n",
    "    'workouts':[\n",
    "        {\n",
    "            'workout_number':0,\n",
    "            'workout_sport':'Running',\n",
    "            'workout_duration':45,\n",
    "            'workout_day':0,\n",
    "            'workout_format':[\n",
    "                {'block_1':[\n",
    "                    {\n",
    "                    'desc':'warmup',\n",
    "                    'profile':'ramp',\n",
    "                    'start_intensity':0.55,\n",
    "                    'finish_intensity':0.75,\n",
    "                    'duration':5\n",
    "                    }\n",
    "                ]},\n",
    "                {'block_2':[\n",
    "                    {\n",
    "                    'desc':'work',\n",
    "                    'profile':'continuous',\n",
    "                    'start_intensity':0.75,\n",
    "                    'finish_intensity':0.75,\n",
    "                    'duration':35\n",
    "                    }\n",
    "                ]},\n",
    "                {'block_3':[\n",
    "                    {\n",
    "                    'desc':'cooldown',\n",
    "                    'profile':'ramp',\n",
    "                    'start_intensity':0.75,\n",
    "                    'finish_intensity':0.55,\n",
    "                    'duration':5\n",
    "                    }\n",
    "                ]}\n",
    "            ]\n",
    "        }\n",
    "    ]\n",
    "}"
   ]
  },
  {
   "cell_type": "code",
   "execution_count": null,
   "id": "sixth-complex",
   "metadata": {},
   "outputs": [],
   "source": []
  }
 ],
 "metadata": {
  "kernelspec": {
   "display_name": "Python 3",
   "language": "python",
   "name": "python3"
  },
  "language_info": {
   "codemirror_mode": {
    "name": "ipython",
    "version": 3
   },
   "file_extension": ".py",
   "mimetype": "text/x-python",
   "name": "python",
   "nbconvert_exporter": "python",
   "pygments_lexer": "ipython3",
   "version": "3.8.3"
  }
 },
 "nbformat": 4,
 "nbformat_minor": 5
}
