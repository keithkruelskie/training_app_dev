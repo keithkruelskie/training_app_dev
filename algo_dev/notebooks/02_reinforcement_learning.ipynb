{
 "cells": [
  {
   "cell_type": "code",
   "execution_count": 1,
   "id": "shared-immune",
   "metadata": {},
   "outputs": [],
   "source": [
    "#Goal of this notebook is to develop the framework for a reinforcement learning algorithm to drive\n",
    "#the optimization of performance characteristics of the athlete."
   ]
  },
  {
   "cell_type": "code",
   "execution_count": null,
   "id": "metric-chicago",
   "metadata": {},
   "outputs": [],
   "source": [
    "#The general idea is to drive the athlete to faster and faster times while keeping the heart rate of the training"
   ]
  }
 ],
 "metadata": {
  "kernelspec": {
   "display_name": "Python 3",
   "language": "python",
   "name": "python3"
  },
  "language_info": {
   "codemirror_mode": {
    "name": "ipython",
    "version": 3
   },
   "file_extension": ".py",
   "mimetype": "text/x-python",
   "name": "python",
   "nbconvert_exporter": "python",
   "pygments_lexer": "ipython3",
   "version": "3.8.5"
  }
 },
 "nbformat": 4,
 "nbformat_minor": 5
}
