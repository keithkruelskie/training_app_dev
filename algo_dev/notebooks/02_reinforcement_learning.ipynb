{
 "cells": [
  {
   "cell_type": "code",
   "execution_count": 1,
   "id": "improving-matrix",
   "metadata": {},
   "outputs": [],
   "source": [
    "#Goal of this notebook is to develop the framework for a reinforcement learning algorithm to drive\n",
    "#the optimization of performance characteristics of the athlete."
   ]
  },
  {
   "cell_type": "code",
   "execution_count": 2,
   "id": "filled-surge",
   "metadata": {},
   "outputs": [],
   "source": [
    "#The general idea is to drive the athlete to faster and faster times while keeping the heart rate of the training as \n",
    "#low as possible."
   ]
  },
  {
   "cell_type": "markdown",
   "id": "attended-enemy",
   "metadata": {},
   "source": [
    "### Reinforcement Learning Basics"
   ]
  },
  {
   "cell_type": "markdown",
   "id": "exceptional-carol",
   "metadata": {},
   "source": [
    "The idea of a reinforcement learning model is that an algorithm is incentivized to choose an action that will return the most reward. The actions an algorithm takes and the history of the states that those actions lead to are recorded and used to inform future decisions. \n",
    "An algorithm also should use some randomization to ensure that it can \"test out\" sub optimal actions in the short time, for long term gain."
   ]
  },
  {
   "cell_type": "markdown",
   "id": "narrow-cooper",
   "metadata": {},
   "source": [
    "In this way, I plan to build the algorithm that will \"learn\" the most effective way to train an individual towards a known goal, by varying the \"actions\" that it takes (input of the workouts) and monitoring the effectiveness of those actions (performance based metrics of the workouts completed)\n",
    "\n",
    "Therefore I will need to define the reward function as some function of the workout variables, and success and failure based on the balance of one or more variables. For example a run's distance might not be the only success variable, we might also be interested in the pace of that run, and the heart rate required to accomplish said run."
   ]
  },
  {
   "cell_type": "markdown",
   "id": "special-origin",
   "metadata": {},
   "source": [
    "Some rules will have to be in place to prevent \"wild\" experimentation, for example a runner who has never run more than 5 miles on the program should not be given a workout to run 20+ miles in one go in a week, as a way to optimize for a variable for example.\n",
    "\n",
    "Rewards should also most likely be implemented for consistency of engagement, as that is also crucial to the athlete using the program that the algorithm is running behind. If athletes decide to not use the app, then it is most likely not useful."
   ]
  },
  {
   "cell_type": "markdown",
   "id": "connected-equity",
   "metadata": {},
   "source": [
    "This notebook will attempt to:\n",
    "* Define the basic classes of the objects we will need, pythonically\n",
    "* Define the functions to pull up sufficient data to predict a training plan for a week for an athlete\n",
    "* Use the greedy reinforcement learning model to optimize future workouts for better returns"
   ]
  },
  {
   "cell_type": "markdown",
   "id": "desirable-enclosure",
   "metadata": {},
   "source": [
    "---"
   ]
  },
  {
   "cell_type": "code",
   "execution_count": 4,
   "id": "portable-briefing",
   "metadata": {},
   "outputs": [],
   "source": [
    "import pandas as pd\n",
    "import numpy as np\n",
    "from sqlalchemy import create_engine, insert, MetaData\n",
    "import os\n",
    "from dotenv import load_dotenv"
   ]
  },
  {
   "cell_type": "markdown",
   "id": "painful-tribe",
   "metadata": {},
   "source": [
    "First let's do some local development of classes and functions, and test them out:"
   ]
  },
  {
   "cell_type": "code",
   "execution_count": 5,
   "id": "activated-joining",
   "metadata": {},
   "outputs": [],
   "source": [
    "class Athlete():\n",
    "    pass"
   ]
  },
  {
   "cell_type": "code",
   "execution_count": 6,
   "id": "destroyed-african",
   "metadata": {},
   "outputs": [],
   "source": [
    "class TrainingPlan():\n",
    "    pass"
   ]
  },
  {
   "cell_type": "code",
   "execution_count": 7,
   "id": "german-technique",
   "metadata": {},
   "outputs": [],
   "source": [
    "class Workout():\n",
    "    pass"
   ]
  },
  {
   "cell_type": "markdown",
   "id": "fantastic-equivalent",
   "metadata": {},
   "source": [
    "Two important metrics that we will be using for goal seeking in the reinforcement algorithm will have to do with athlete performance. The faster an athlete runs for each heartbeat as a ratio relative to threshold heartrate will be the metric by which running performance will be measured, and the maximizing of this variable will be the goal we shall seek.\n",
    "\n",
    "Similarly, the higher the wattage supplied on the bicycle per heart beat as a ratio relative to biking threshold heartrate will be the metric by which running performance will be measured, and maximizing that variable will be the goal we shall seek.\n",
    "\n",
    "Essentially, we are trying to optimize the workout schedule that will lead to the highest run pace and/or highest wattage for the % of threshold that the athlete's heart averages for that workout, specifically a weekly benchmark usually the long run or long ride."
   ]
  },
  {
   "cell_type": "markdown",
   "id": "separated-milan",
   "metadata": {},
   "source": [
    "Functionally, the creation of the workouts can be automated and done at a slow rate, in off peak hours (possibly at midnight). To give the athlete some idea of the upcoming workouts and structure, a placeholder workout will be placed in the calendar and then fleshed out the night before based on the performance of past workouts.\n",
    "\n",
    "So that the workout is timed and adjusted exactly to the performance of the athlete in recent days, the athlete entry in the database most likely needs to store data about what type of workouts work well for them so that recommendations are optimized. "
   ]
  },
  {
   "cell_type": "markdown",
   "id": "radio-ottawa",
   "metadata": {},
   "source": [
    "Different types of workout affinities can be recorded:\n",
    "* Propensity to complete a workout\n",
    "* Propensity for interval work\n",
    "* Propensity for duration\n",
    "* Preferred interval duration\n",
    "* Max 30s power or pace or hr\n",
    "* Max 2 min power or pace or hr\n",
    "* Max 5 min power or pace or hr\n",
    "* Max 10 min power or pace or hr\n",
    "* Max 20 min power or pace or hr\n",
    "* Max 40 min power or pace or hr\n",
    "* Avg workout power or pace or hr\n",
    "* Propensity for workout variation"
   ]
  },
  {
   "cell_type": "markdown",
   "id": "agricultural-sculpture",
   "metadata": {},
   "source": [
    "So, we will need to define a rewards matrix, and an actions matrix for each athlete. This should be a database entry that is captured and recorded and adjusted each time a workout is completed."
   ]
  },
  {
   "cell_type": "markdown",
   "id": "protecting-trailer",
   "metadata": {},
   "source": [
    "We will also need a decider, that picks the best action based on the responses of the reward matrix, thus making it 'greedy'. Occasionally we will probably want the decider to choose a random or novel approach, to ensure that the first choice taken doesn't overrule a different, more fruitful strategy. "
   ]
  },
  {
   "cell_type": "markdown",
   "id": "streaming-communist",
   "metadata": {},
   "source": [
    "The variables controlling the workout parameters should be defined as a distribution, so that as the function finds a set of variables that work together it increases the likelihood of that being selected, in effect defining the distribution of the reward function."
   ]
  },
  {
   "cell_type": "markdown",
   "id": "handmade-feelings",
   "metadata": {},
   "source": [
    "The training generator should look back up a certain window and use the distributions of the workout propensities compared to the change in performance from prior in the window to the current day's workouts, and determine if the propensities assigned were successful in increasing the target variable. \n",
    "\n",
    "For example, the algorithm assigns a week with a higher % of workouts that are intervals, and notices that the heart rate for the same pace as % of threshold goes down. The algorithm should record this as a \"win\" or a reward, and should bias slightly towards this course of action in the future. Alternatively, if the heart rate goes up, indicating that the athlete might be getting poor adaptations from it, the algorithm would react by disincentivizing that variable or reducing its weight. "
   ]
  },
  {
   "cell_type": "code",
   "execution_count": 1,
   "id": "suffering-throw",
   "metadata": {},
   "outputs": [],
   "source": [
    "#Let's define a dummy athlete, and return predictions based on their change in performance:"
   ]
  },
  {
   "cell_type": "code",
   "execution_count": 5,
   "id": "excellent-forum",
   "metadata": {},
   "outputs": [],
   "source": [
    "#Variables saved from the last week:\n",
    "athlete_bob = {'id':1, 'thresh_hr':155, 'prop_workout':0.95, 'pct_int':0.5, 'prop_dur':0, 'itv_dur':0.1}"
   ]
  },
  {
   "cell_type": "code",
   "execution_count": 3,
   "id": "disturbed-transsexual",
   "metadata": {},
   "outputs": [
    {
     "data": {
      "text/plain": [
       "1"
      ]
     },
     "execution_count": 3,
     "metadata": {},
     "output_type": "execute_result"
    }
   ],
   "source": [
    "athlete_bob['id']"
   ]
  },
  {
   "cell_type": "code",
   "execution_count": 18,
   "id": "apart-camel",
   "metadata": {},
   "outputs": [],
   "source": [
    "this_weeks_workouts = [\n",
    "    {\n",
    "        'workout_id':'0001',\n",
    "        'int_workout':True,\n",
    "        'workout_dur':60,\n",
    "        'workout_itv_dur':.083,\n",
    "        'workout_prop_dur':.625,\n",
    "        'steps':{\n",
    "            0:{\n",
    "                'type':'ramp',\n",
    "                'duration':10,\n",
    "                'start_intensity':.65,\n",
    "                'end_intensity':.85,\n",
    "                'quantity':1,\n",
    "                'first_duration':10,\n",
    "                'second_duration':0\n",
    "            },\n",
    "            1:{\n",
    "                'type':'interval',\n",
    "                'duration':40,\n",
    "                'start_intensity':.95,\n",
    "                'end_intensity':.65,\n",
    "                'quantity':5,\n",
    "                'first_duration':5,\n",
    "                'second_duration':3 \n",
    "            },\n",
    "            2:{\n",
    "                'type':'ramp',\n",
    "                'duration':10,\n",
    "                'start_intensity':.85,\n",
    "                'end_intensity':.65,\n",
    "                'quantity':1,\n",
    "                'first_duration':10,\n",
    "                'second_duration':0 \n",
    "            }\n",
    "        }\n",
    "        \n",
    "    },\n",
    "    {\n",
    "        'workout_id':'0002',\n",
    "        'int_workout':True,\n",
    "        'workout_dur':60,\n",
    "        'workout_itv_dur':.083,\n",
    "        'workout_prop_dur':.625,\n",
    "        'steps':{\n",
    "            0:{\n",
    "                'type':'ramp',\n",
    "                'duration':10,\n",
    "                'start_intensity':.65,\n",
    "                'end_intensity':.85,\n",
    "                'quantity':1,\n",
    "                'first_duration':10,\n",
    "                'second_duration':0\n",
    "            },\n",
    "            1:{\n",
    "                'type':'interval',\n",
    "                'duration':40,\n",
    "                'start_intensity':.95,\n",
    "                'end_intensity':.65,\n",
    "                'quantity':5,\n",
    "                'first_duration':5,\n",
    "                'second_duration':3 \n",
    "            },\n",
    "            2:{\n",
    "                'type':'ramp',\n",
    "                'duration':10,\n",
    "                'start_intensity':.85,\n",
    "                'end_intensity':.65,\n",
    "                'quantity':1,\n",
    "                'first_duration':10,\n",
    "                'second_duration':0 \n",
    "            }\n",
    "        }\n",
    "        \n",
    "    }\n",
    "        \n",
    "    \n",
    "]"
   ]
  },
  {
   "cell_type": "code",
   "execution_count": 19,
   "id": "infrared-court",
   "metadata": {},
   "outputs": [
    {
     "name": "stdout",
     "output_type": "stream",
     "text": [
      "0001: \n",
      "ramp\n",
      "interval\n",
      "ramp\n",
      "0002: \n",
      "ramp\n",
      "interval\n",
      "ramp\n"
     ]
    }
   ],
   "source": [
    "for workout in this_weeks_workouts:\n",
    "    print(workout['workout_id']+': ')\n",
    "    for step in workout['steps']:\n",
    "        print(workout['steps'][step]['type'])"
   ]
  },
  {
   "cell_type": "code",
   "execution_count": null,
   "id": "geographic-tonight",
   "metadata": {},
   "outputs": [],
   "source": [
    "def create_week(current_params):\n",
    "    pass"
   ]
  },
  {
   "cell_type": "code",
   "execution_count": null,
   "id": "corporate-trademark",
   "metadata": {},
   "outputs": [],
   "source": [
    "#The training generator iterates weekly to capture the change in long run and/or long bike performance as measured\n",
    "#by the heart rate \n",
    "class training_generator(params):\n",
    "    '''\n",
    "    prop_workout is the propensity to complete a workout, as a float (0.0-1.0)\n",
    "    pct_int is the percent for interval workouts, as a float (0.0-.75)\n",
    "    prop_dur is the propensity for duration over intensity, total time spent above .85 of threshold vs below .85, float (0.0 to 1.0)\n",
    "    itv_dur is preferred interval duration, as a % of total workout time, as a float (0.0 - 1.0)\n",
    "    iters is the number of iterations to run training generation \n",
    "    \n",
    "    '''\n",
    "    \n",
    "    #Parameters input from data gathered from database:\n",
    "    #Determine if the athlete is on a training plan, used to continue operational loop when called.\n",
    "    on_training_plan = params['training_plan']\n",
    "    \n",
    "    def __init__(self, prop_workout, pct_int, prop_dur, itv_dur, iters)"
   ]
  }
 ],
 "metadata": {
  "kernelspec": {
   "display_name": "Python 3",
   "language": "python",
   "name": "python3"
  },
  "language_info": {
   "codemirror_mode": {
    "name": "ipython",
    "version": 3
   },
   "file_extension": ".py",
   "mimetype": "text/x-python",
   "name": "python",
   "nbconvert_exporter": "python",
   "pygments_lexer": "ipython3",
   "version": "3.8.5"
  }
 },
 "nbformat": 4,
 "nbformat_minor": 5
}
