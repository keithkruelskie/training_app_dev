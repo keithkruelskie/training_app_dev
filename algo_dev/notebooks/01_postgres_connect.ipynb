{
 "cells": [
  {
   "cell_type": "code",
   "execution_count": 1,
   "id": "clinical-malaysia",
   "metadata": {},
   "outputs": [],
   "source": [
    "#Goal of this notebook is to connect to a local or remote postgreSQL server and read in data and push new data to it."
   ]
  },
  {
   "cell_type": "code",
   "execution_count": null,
   "id": "honest-contemporary",
   "metadata": {},
   "outputs": [],
   "source": []
  }
 ],
 "metadata": {
  "kernelspec": {
   "display_name": "Python 3",
   "language": "python",
   "name": "python3"
  },
  "language_info": {
   "codemirror_mode": {
    "name": "ipython",
    "version": 3
   },
   "file_extension": ".py",
   "mimetype": "text/x-python",
   "name": "python",
   "nbconvert_exporter": "python",
   "pygments_lexer": "ipython3",
   "version": "3.8.3"
  }
 },
 "nbformat": 4,
 "nbformat_minor": 5
}
